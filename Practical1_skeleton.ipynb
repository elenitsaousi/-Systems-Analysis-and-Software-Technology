{
  "cells": [
    {
      "cell_type": "markdown",
      "metadata": {
        "id": "id1w7kwZVF3I"
      },
      "source": [
        "# Practical 1 : Implementation of Linear Regression (Ridge, Lasso)\n",
        "\n",
        "- Train a linear model\n",
        "    - using least squares method\n",
        "    - implement the model from scratch using NumPy\n",
        "    - Use learning curves plot to understand whether the linear moel is overfitting or underfitting\n",
        "- Train linear models with\n",
        "    - regularization (Ridge and Lasso)\n",
        "    - polynomial basis expansion\n",
        "    - use validation data to choose the hyperparameters\n",
        "    - scikit-learn\n",
        "    - Use k-fold cross validation to choose the optimal hyperparameters\n",
        "\n",
        "We will use the following packages:"
      ]
    },
    {
      "cell_type": "code",
      "execution_count": null,
      "metadata": {
        "id": "CTZv9o5i4gy3"
      },
      "outputs": [],
      "source": [
        "import numpy as np\n",
        "import matplotlib.pyplot as plt\n",
        "import _pickle as cp"
      ]
    },
    {
      "cell_type": "markdown",
      "metadata": {
        "id": "b1-ZQWqTVPno"
      },
      "source": [
        "We will use the winequality dataset for this practical. The dataset is available here:\n",
        "https://archive.ics.uci.edu/ml/datasets/Wine+Quality.\n",
        "In order to make it easier to import the dataset, the dataset has been converted to the numpy array format and shuffled, so that we can start the practical directly. The converted dataset is available on the OLAT page.\n",
        "\n",
        "#### Attribute Information\n",
        "Input variables (based on physicochemical tests):\n",
        "\n",
        "0. fixed acidity\n",
        "1. volatile acidity\n",
        "2. citric acid\n",
        "3. residual sugar\n",
        "4. chlorides\n",
        "5. free sulfur dioxide\n",
        "6. total sulfur dioxide\n",
        "7. density\n",
        "8. pH\n",
        "9. sulphates\n",
        "10. alcohol\n",
        "\n",
        "Output variable (based on sensory data):\n",
        "\n",
        "12. quality (score between 0 and 10)"
      ]
    },
    {
      "cell_type": "markdown",
      "metadata": {
        "id": "TzDL9RQiVaPY"
      },
      "source": [
        "The dataset has two files. We’ll focus on the white wine data, which is the larger dataset. The following code loads the data:"
      ]
    },
    {
      "cell_type": "code",
      "execution_count": null,
      "metadata": {
        "colab": {
          "base_uri": "https://localhost:8080/"
        },
        "id": "NYkwbebUVO_i",
        "outputId": "35494801-8efe-413b-d2b7-dcfea6359675"
      },
      "outputs": [
        {
          "output_type": "stream",
          "name": "stdout",
          "text": [
            "X is a (4898, 11) matrix, which contains 4898 data records and 11 features.\n",
            "y is a 4898-dimentional vector, which stores the corresponding labels of the data records in X\n"
          ]
        }
      ],
      "source": [
        "# load the white wine dataset\n",
        "# X is the feature matrix that stores the feature values of the data records\n",
        "# y is the label vector that stores the labels of the data records\n",
        "X, y = cp.load(open('/content/sample_data/winequality-white.pickle', 'rb'))\n",
        "\n",
        "# check the size of the data\n",
        "print(\"X is a {} matrix, which contains {} data records and {} features.\".format(X.shape, X.shape[0], X.shape[1]))\n",
        "print(\"y is a {}-dimentional vector, which stores the corresponding labels of the data records in X\".format(y.shape[0]))\n"
      ]
    },
    {
      "cell_type": "markdown",
      "metadata": {
        "id": "CGuNg0KbWN0z"
      },
      "source": [
        "We next split the data into training data and test data.\n",
        "In practice, we should sample randomly 80% of the data as training data and the rest as the test data.  \n",
        "However, in order to get consistent results, we use the first 80% of the data as training\n",
        "data and the remaining as the test data.\n",
        "To achieve this split, we define the following function."
      ]
    },
    {
      "cell_type": "code",
      "execution_count": null,
      "metadata": {
        "colab": {
          "base_uri": "https://localhost:8080/"
        },
        "id": "6ZqbBa8bWNYg",
        "outputId": "2c4c98ee-be4f-4b81-ab4f-2c7e5242f3b9"
      },
      "outputs": [
        {
          "output_type": "stream",
          "name": "stdout",
          "text": [
            "Shape of X_train: (3918, 11)\n",
            "Shape of y_train: (3918,)\n",
            "Shape of X_test: (980, 11)\n",
            "Shape of y_test: (980,)\n"
          ]
        }
      ],
      "source": [
        "# the function splits the dataset into training data and testing data.\n",
        "# the parameter split_coeff is a percentage value such that\n",
        "# the first split_coeff of the dataset goes to the training dataset\n",
        "# and the remaining data goes to the test dataset.\n",
        "def split_data(X, y, split_coeff):\n",
        "    N, _ = X.shape # get the number of records (rows)\n",
        "    train_size = int(split_coeff * N) # use the first split_coeff of the data as the training data\n",
        "    X_train = X[:train_size] # the first training_size records\n",
        "    y_train = y[:train_size]\n",
        "    X_test = X[train_size:] # the last test_size records\n",
        "    y_test = y[train_size:]\n",
        "    return X_train, y_train, X_test, y_test\n",
        "\n",
        "X_train, y_train, X_test, y_test = split_data(X, y, 0.8) # split the data with split_coeff=0.8\n",
        "\n",
        "# check the size of the splitted dataset\n",
        "print(\"Shape of X_train:\", X_train.shape)\n",
        "print(\"Shape of y_train:\", y_train.shape)\n",
        "print(\"Shape of X_test:\", X_test.shape)\n",
        "print(\"Shape of y_test:\", y_test.shape)"
      ]
    },
    {
      "cell_type": "markdown",
      "metadata": {
        "id": "q2yKNR49Wkn8"
      },
      "source": [
        "## Understanding What We’re Predicting\n",
        "\n",
        "Let’s first check\n",
        "the distribution of the y-values in the training data.\n",
        "You will find that the values are integers between 3 and 9 indicating the quality of the wine.\n"
      ]
    },
    {
      "cell_type": "markdown",
      "metadata": {
        "id": "-PMpsZNSWthB"
      },
      "source": [
        "### **Task 1**\n",
        "Make a bar chart showing the distribution of y-values in the training data. You will find that the y-values are integers from 3 to 9, which indicate the quality of the wines."
      ]
    },
    {
      "cell_type": "code",
      "execution_count": null,
      "metadata": {
        "colab": {
          "base_uri": "https://localhost:8080/",
          "height": 472
        },
        "id": "4L_JDK3dWrsR",
        "outputId": "04d080f9-3386-4f5b-b714-5709a84840af"
      },
      "outputs": [
        {
          "output_type": "display_data",
          "data": {
            "text/plain": [
              "<Figure size 640x480 with 1 Axes>"
            ],
            "image/png": "[encoded data removed]"
          },
          "metadata": {}
        }
      ],
      "source": [
        "#@title\n",
        "# Task 1:\n",
        "# the function takes the y-values in the training data as the input and makes the bar chart.\n",
        "# Hint: Your function should make a bar chart looks like the bar chart below.\n",
        "def plot_bar_chart_score(y_train):\n",
        "    # Get the unique values and their counts in y_train (wine quality)\n",
        "    ###################################################\n",
        "    ##### YOUR CODE STARTS HERE #######################\n",
        "    ###################################################\n",
        "    # get the unique values in y_train and their respective counts (the number of times each unique value in y_train appears)\n",
        "    unique_y, counts = np.unique(y_train, return_counts=True)\n",
        "\n",
        "    # create a bar chart to visualize the frequency of each unique value\n",
        "    plt.bar(unique_y, counts, color='blue')\n",
        "\n",
        "\n",
        "    # set the title and labels\n",
        "    plt.title('Distribution of wine quality in training data')\n",
        "    plt.xlabel('Score - wine quality')\n",
        "    plt.ylabel('Number of wines')\n",
        "\n",
        "    # show the bar chart\n",
        "    plt.show()\n",
        "\n",
        "    ###################################################\n",
        "    ##### YOUR CODE ENDS HERE #########################\n",
        "    ###################################################\n",
        "\n",
        "\n",
        "plot_bar_chart_score(y_train)"
      ]
    },
    {
      "cell_type": "markdown",
      "metadata": {
        "id": "GxjlElni2FcH"
      },
      "source": [
        "### **Task 2**\n",
        "This task is to build a trivial predictor, which always returns the mean of the y-values of the training data. We consider the trivial model as a baseline. The linear regression models we build later should perform better than this trivial model."
      ]
    },
    {
      "cell_type": "code",
      "execution_count": null,
      "metadata": {
        "colab": {
          "base_uri": "https://localhost:8080/"
        },
        "id": "-V3xFYexX1lt",
        "outputId": "b38391ca-e800-4ca8-9e02-0743e23837a0"
      },
      "outputs": [
        {
          "output_type": "stream",
          "name": "stdout",
          "text": [
            "Average of y on the training label values is 5.878764675855028\n"
          ]
        }
      ],
      "source": [
        "#@title\n",
        "# Task 2: implement the trivial predictor\n",
        "# The function computes the average value of y on the training label values\n",
        "def compute_average(y_train):\n",
        "    # The code below is just for compilation.\n",
        "    # You need to delete it and write your own code.\n",
        "    ###################################################\n",
        "    ##### YOUR CODE STARTS HERE #######################\n",
        "    ###################################################\n",
        "    # Hint: return the mean of y_train\n",
        "    # Return the mean of y_train\n",
        "    return np.mean(y_train)\n",
        "    ###################################################\n",
        "    ##### YOUR CODE ENDS HERE #########################\n",
        "    ###################################################\n",
        "\n",
        "y_train_avg = compute_average(y_train)\n",
        "print(\"Average of y on the training label values is {}\".format(y_train_avg))\n",
        "\n",
        "# the trivial predictor returns the average value.\n",
        "def trivial_predictor(X_test, y_train_avg):\n",
        "  return y_train_avg\n"
      ]
    },
    {
      "cell_type": "markdown",
      "metadata": {
        "id": "x531Q_SxXV14"
      },
      "source": [
        "### **Task 3**\n",
        "We next evaluate the trivial predictor on the training data and test data.\n",
        "We use mean squared error (MSE) to measure the performance of the predictor.\n",
        "The task is to implement a function that reports the mean squared error of the given predictor on the given data."
      ]
    },
    {
      "cell_type": "code",
      "execution_count": null,
      "metadata": {
        "colab": {
          "base_uri": "https://localhost:8080/"
        },
        "id": "mV8l6Ci9YlgL",
        "outputId": "3d566c76-984e-4eba-bf30-b52f7a50783b"
      },
      "outputs": [
        {
          "output_type": "stream",
          "name": "stdout",
          "text": [
            "Trivial Predictor\n",
            "MSE (Training) = 0.7768\n",
            "MSE (Testing)  = 0.8139\n"
          ]
        }
      ],
      "source": [
        "# We next test our trivial predictor on the training data and test data.\n",
        "# Implement a function that can report the mean squared error\n",
        "# of a predictor on the given data\n",
        "# Input: data and predictor\n",
        "# Output: mean squared error of the predictor on the given data\n",
        "def test_predictor(X, y, predictor: callable=None):\n",
        "    # Apply the predictor to each row of the matrix X to get the predictions\n",
        "    y_predicted = np.apply_along_axis(predictor, 1, X)\n",
        "\n",
        "    # TODO: compute the mean squared error of y\n",
        "    # The code below is just for compilation.\n",
        "    # You need to delete it and write your own code.\n",
        "    ###################################################\n",
        "    ##### YOUR CODE STARTS HERE #######################\n",
        "    ###################################################\n",
        "    # calculate the mean of the sum of squared error(sse)\n",
        "    # sse: square of(actual value - predicted value)\"\n",
        "    mse = np.mean((y - y_predicted) ** 2)\n",
        "\n",
        "    ###################################################\n",
        "    ##### YOUR CODE ENDS HERE #########################\n",
        "    ###################################################\n",
        "\n",
        "    return mse\n",
        "\n",
        "# use the function test_predictor to test the trivial predictor\n",
        "# we use the lambda function here to pass the function trivial predictor to the function test_predictor.\n",
        "mse_trivial_predictor_train = test_predictor(X_train, y_train, lambda x: trivial_predictor(x, y_train_avg))\n",
        "mse_trivial_predictor_test = test_predictor(X_test, y_test, lambda x: trivial_predictor(x, y_train_avg))\n",
        "\n",
        "# report the result\n",
        "print('Trivial Predictor')\n",
        "print('MSE (Training) = %.4f' % mse_trivial_predictor_train)\n",
        "print('MSE (Testing)  = %.4f' % mse_trivial_predictor_test)"
      ]
    },
    {
      "cell_type": "markdown",
      "metadata": {
        "id": "geiyM1Nea0az"
      },
      "source": [
        "## Train the Linear Model Using Least Squares Method\n",
        "\n",
        "Let us train a linear model on the training data and then check its MSE.\n",
        "We use the closed form solution of the least squares estimate to get the parameters of the linear model.\n",
        "The linear model should perform better than the trivial predictor."
      ]
    },
    {
      "cell_type": "markdown",
      "metadata": {
        "id": "WSEwFGp_bqAI"
      },
      "source": [
        "### **Task 4**\n",
        "Before training the model, we need to standardize the data, i.e., transform the data so that every feature has mean 0 and variance 1.\n",
        "\n",
        "https://en.wikipedia.org/wiki/Standard_score\n",
        "\n",
        "We first standardize the training data.\n",
        "Then we apply the same transformation to the test data, i.e. standardize the test data using the means and the standard deviations of the training data."
      ]
    },
    {
      "cell_type": "code",
      "execution_count": null,
      "metadata": {
        "colab": {
          "base_uri": "https://localhost:8080/"
        },
        "id": "trjwkcgybhDH",
        "outputId": "0fb224ea-c5d1-4d2d-fb20-b9ee72d849c9"
      },
      "outputs": [
        {
          "output_type": "stream",
          "name": "stdout",
          "text": [
            "X_train_std: (3918, 11)\n",
            "Mean: [6.85427514e+00 2.78390761e-01 3.34892802e-01 6.42623788e+00\n",
            " 4.58213374e-02 3.53263144e+01 1.38513272e+02 9.94040729e-01\n",
            " 3.18647524e+00 4.89055641e-01 1.05115799e+01]\n",
            "Standard deviation: [8.39100902e-01 9.95630176e-02 1.24249975e-01 5.06377532e+00\n",
            " 2.16660282e-02 1.71004677e+01 4.23956179e+01 2.97972269e-03\n",
            " 1.49949475e-01 1.12992053e-01 1.22536544e+00]\n"
          ]
        }
      ],
      "source": [
        "# The task is to implement a function that can standardize the data and returns the mean and std of the data.\n",
        "# Input: training data\n",
        "# Output: standardize training data, standard deviations and means\n",
        "def standardize_data(X):\n",
        "    # TODO: compute the means and standard deviations of the data, and standardize the data\n",
        "    # The code below is just for compilation.\n",
        "    # You need to replace it by your own code.\n",
        "    ###################################################\n",
        "    ##### YOUR CODE STARTS HERE #######################\n",
        "    ###################################################\n",
        "    mean = np.mean(X, axis=0)\n",
        "    std = np.std(X, axis=0)\n",
        "    # standardize the data: (X - mean) / std\n",
        "    X_std = (X - mean) / std\n",
        "    ###################################################\n",
        "    ##### YOUR CODE ENDS HERE #########################\n",
        "    ###################################################\n",
        "\n",
        "\n",
        "    return X_std, mean, std\n",
        "\n",
        "# standardize the training data and store the means and the stds\n",
        "X_train_std, X_train_mean, X_train_std_div = standardize_data(X_train)\n",
        "print(\"X_train_std:\", X_train_std.shape)\n",
        "print(\"Mean:\", X_train_mean)\n",
        "print(\"Standard deviation:\", X_train_std_div)"
      ]
    },
    {
      "cell_type": "code",
      "execution_count": null,
      "metadata": {
        "colab": {
          "base_uri": "https://localhost:8080/"
        },
        "id": "RjzbA5JpM759",
        "outputId": "0d1c07fb-e6f6-425c-e9b5-643a1ee8f37f"
      },
      "outputs": [
        {
          "output_type": "stream",
          "name": "stdout",
          "text": [
            "[[-0.18385767  0.61879643  1.65076248 ... -0.97683064  0.62787034\n",
            "  -1.39679138]\n",
            " [ 1.24624447  0.51835753 -0.44179327 ... -0.24325022 -0.96516204\n",
            "  -1.39679138]\n",
            " [ 0.41201822  0.31747972  0.12158713 ... -0.30993935  0.36236495\n",
            "  -0.66231661]\n",
            " ...\n",
            " [-0.66055839  2.02494103 -2.37338318 ...  0.35695195 -1.14216564\n",
            "  -0.74392492]\n",
            " [-1.25643428 -1.49042048 -0.92469075 ...  0.89046499 -0.61115484\n",
            "   0.96984954]\n",
            " [ 1.12706929  0.41791862 -0.0393787  ... -0.77676326  0.80487394\n",
            "  -0.74392492]]\n"
          ]
        }
      ],
      "source": [
        "# TODO: Standardize the test data using the means and standrad deviations of the training data\n",
        "###################################################\n",
        "##### YOUR CODE STARTS HERE #######################\n",
        "###################################################\n",
        "X_test_std = (X_test - X_train_mean) / X_train_std_div\n",
        "print(X_test_std)\n",
        "###################################################\n",
        "##### YOUR CODE ENDS HERE #########################\n",
        "###################################################"
      ]
    },
    {
      "cell_type": "markdown",
      "metadata": {
        "id": "cRPPA6HMbNOr"
      },
      "source": [
        "### **Task 5**\n",
        "We have standardized X-values. Do we need to standardize the y-values? Why?"
      ]
    },
    {
      "cell_type": "markdown",
      "metadata": {
        "id": "9he5QMmfqL3_"
      },
      "source": [
        "\n",
        "\n",
        "```\n",
        "No, we do not need to standardize the y-values because they represent the actual wine quality scores, which should remain\n",
        "interpretable. Standardizing the X-values is important to prevent features with varying scales from affecting predictions.\n",
        "In contrast standardizing the y-values does not impact the model and could reduce the interpretability of the predicted scores.\n",
        "```\n",
        "\n"
      ]
    },
    {
      "cell_type": "markdown",
      "metadata": {
        "id": "vT4_Sl42bxmD"
      },
      "source": [
        "### **Task 6**\n",
        "Let's now train the linear model using the least-squares method.\n",
        "We need to add the bias term to the matrix X."
      ]
    },
    {
      "cell_type": "code",
      "execution_count": null,
      "metadata": {
        "colab": {
          "base_uri": "https://localhost:8080/"
        },
        "id": "A4JtLr6pdJV7",
        "outputId": "dd52a2f3-a68f-4871-af7f-577b50716cb6"
      },
      "outputs": [
        {
          "output_type": "stream",
          "name": "stdout",
          "text": [
            "w: (12,)\n",
            "[ 5.87876468e+00  5.70365710e-02 -1.83384219e-01 -4.04067444e-03\n",
            "  4.09097280e-01 -8.17517111e-03  5.92929519e-02 -3.56633675e-03\n",
            " -4.36936781e-01  9.87381161e-02  6.53325059e-02  2.42495455e-01]\n"
          ]
        }
      ],
      "source": [
        "# The task is to implement the function that adds a column of ones to the front of the input matrix\n",
        "def expand_with_ones(X):\n",
        "    # TODO: add a column of ones to the front of the input matrix\n",
        "    # The code below is just for compilation.\n",
        "    # You need to replace it by your own code.\n",
        "    ###################################################\n",
        "    ##### YOUR CODE STARTS HERE #######################\n",
        "    ###################################################\n",
        "\n",
        "\n",
        "    # add a column of ones to the front of the matrix X\n",
        "    ones_col = np.ones((X.shape[0], 1))\n",
        "    X_out = np.hstack((ones_col, X))  # horizontally stack ones with X\n",
        "    return X_out\n",
        "    ###################################################\n",
        "    ##### YOUR CODE ENDS HERE #########################\n",
        "    ###################################################\n",
        "\n",
        "# train the linear model using the least-squares method\n",
        "# the task is to implement the function that computes the parameters\n",
        "def least_squares_compute_parameters(X_input, y):\n",
        "    # Add the bias column to the data\n",
        "    X = expand_with_ones(X_input)\n",
        "\n",
        "\n",
        "    # TODO: compute the parameters based on the expanded X and y using the least-squares method\n",
        "    # The code below is just for compilation.\n",
        "    # You need to replace it by your own code.\n",
        "    ###################################################\n",
        "    ##### YOUR CODE STARTS HERE #######################\n",
        "    ###################################################\n",
        "\n",
        "    # compute the parameters based on the expanded X and y using the least-squares method\n",
        "    w, residuals, rank, s = np.linalg.lstsq(X, y, rcond=None)\n",
        "    return w\n",
        "\n",
        "    ###################################################\n",
        "    ##### YOUR CODE ENDS HERE #########################\n",
        "    ###################################################\n",
        "\n",
        "# apply the function to train the linear model\n",
        "w = least_squares_compute_parameters(X_train_std, y_train)\n",
        "print(\"w:\", w.shape)\n",
        "print(w)"
      ]
    },
    {
      "cell_type": "markdown",
      "metadata": {
        "id": "lasj_1PpeZib"
      },
      "source": [
        "After computing the parameters,\n",
        "we can build the linear model predictor.\n",
        "The predictor takes as input the computed parameters and the data, and predicts the labels for the input data."
      ]
    },
    {
      "cell_type": "code",
      "execution_count": null,
      "metadata": {
        "id": "Lb-hNagxc3Wj"
      },
      "outputs": [],
      "source": [
        "# Implement the linear model predictor\n",
        "# Input: test data and parameters\n",
        "# Output: predicted values\n",
        "def linear_model_predictor(X, w):\n",
        "    # TODO: predict the labels for the input data\n",
        "    # The code below is just for compilation.\n",
        "    # You need to replace it by your own code.\n",
        "    ###################################################\n",
        "    ##### YOUR CODE STARTS HERE #######################\n",
        "    ###################################################\n",
        "\n",
        "    # use np.dot for matrix multiplication\n",
        "    y_predicted = np.dot(X, w)\n",
        "    return y_predicted\n",
        "    ###################################################\n",
        "    ##### YOUR CODE ENDS HERE #########################\n",
        "    ###################################################\n"
      ]
    },
    {
      "cell_type": "markdown",
      "metadata": {
        "id": "cFOYpwbufz7J"
      },
      "source": [
        "We can now evaluate our linear model predictor on the test data."
      ]
    },
    {
      "cell_type": "code",
      "execution_count": null,
      "metadata": {
        "colab": {
          "base_uri": "https://localhost:8080/"
        },
        "id": "LuHHmn2RB55j",
        "outputId": "7ab5eb2e-6945-4bb0-9998-03f6ca07f37e"
      },
      "outputs": [
        {
          "output_type": "stream",
          "name": "stdout",
          "text": [
            "Mean squared error is 0.5607292042283474\n"
          ]
        }
      ],
      "source": [
        "# use the function test_predictor to evaluate the linear model predictor\n",
        "mse_linear_model_predictor = test_predictor(expand_with_ones(X_test_std), y_test, lambda x: linear_model_predictor(x, w))\n",
        "print(\"Mean squared error is {}\".format(mse_linear_model_predictor))"
      ]
    },
    {
      "cell_type": "markdown",
      "metadata": {
        "id": "zqj4HKAihF7Q"
      },
      "source": [
        "## Learning Curves\n",
        "\n",
        "Let us check if the linear model is overfitting or underfitting. Since the dataset is somewhat large and there are only 11 features, the model shouldn't be overfitting.\n",
        "To check it, we need to check the learning curves, i.e. how the performance of the model changes when it is trained with increasingly more data.\n",
        "We train the model on the increasingly more data ([20, 40, ..., 600] data records), and evaluate the model by computing the MSE of the model on both the training data and the test data.\n",
        "We use the collected MSE to build the learning curves plot."
      ]
    },
    {
      "cell_type": "markdown",
      "metadata": {
        "id": "MNf11kurCgKF"
      },
      "source": [
        "### **Task 7**\n",
        "\n",
        "Let's first implement a function that comprises what we have implemented above.\n",
        "The function takes as inputs the data and the split coefficient, and\n",
        "1. standardizes the data,\n",
        "2. trains the linear model, and\n",
        "3. reports the mse of the linear model predictor on both training and test datasets."
      ]
    },
    {
      "cell_type": "code",
      "execution_count": null,
      "metadata": {
        "colab": {
          "base_uri": "https://localhost:8080/"
        },
        "id": "UcGRQBrEb106",
        "outputId": "cf26dae1-cfe1-4982-ca9b-b04dc02215ab"
      },
      "outputs": [
        {
          "output_type": "stream",
          "name": "stdout",
          "text": [
            "Linear Model\n",
            "-----------------------\n",
            "\n",
            "MSE (Training) = 0.5640\n",
            "MSE (Testing)  = 0.5621\n"
          ]
        }
      ],
      "source": [
        "def train_and_test(X_train, y_train, X_test, y_test):\n",
        "    # TODO: implement the function\n",
        "    # The code below is just for compilation.\n",
        "    # You need to replace it by your own code.\n",
        "    ###################################################\n",
        "    ##### YOUR CODE STARTS HERE #######################\n",
        "    ###################################################\n",
        "    # standardize X_train and X_test values\n",
        "    X_train_std, X_train_mean, X_train_std_div = standardize_data(X_train)\n",
        "    X_test_std, X_test_mean, X_tes_std_div = standardize_data(X_test)\n",
        "\n",
        "    # compute parameters from training dataset\n",
        "    w_train = least_squares_compute_parameters(X_train_std, y_train)\n",
        "\n",
        "    # use the test_predictor to evaluate the linear model predictor for training and test dataset\n",
        "    mse_train = test_predictor(expand_with_ones(X_train_std), y_train, lambda x: linear_model_predictor(x, w_train))\n",
        "\n",
        "    mse_test = test_predictor(expand_with_ones(X_test_std), y_test, lambda x: linear_model_predictor(x, w_train))\n",
        "\n",
        "    return mse_train, mse_test\n",
        "    ###################################################\n",
        "    ##### YOUR CODE ENDS HERE #########################\n",
        "    ###################################################\n",
        "\n",
        "mse_train, mse_test = train_and_test(X_train, y_train, X_test, y_test)\n",
        "print('Linear Model')\n",
        "print('-----------------------\\n')\n",
        "print('MSE (Training) = %.4f' % mse_train)\n",
        "print('MSE (Testing)  = %.4f' % mse_test)\n"
      ]
    },
    {
      "cell_type": "markdown",
      "metadata": {
        "id": "NTJw_BrzhRwi"
      },
      "source": [
        "We are now ready to report the learning curves.\n",
        "The task is to train the linear model on the increasingly more data ([20, 40, ..., 600] data records)\n",
        "and store the MSE of the trained model on the training data and the test data in the lists `mse_train_v` and `mse_test`, respectively.\n",
        "We have provided the code for generating the learning curves from `mse_train_v` and `mse_test`."
      ]
    },
    {
      "cell_type": "code",
      "execution_count": null,
      "metadata": {
        "colab": {
          "base_uri": "https://localhost:8080/",
          "height": 449
        },
        "id": "jDsdh4T3hcIU",
        "outputId": "f8f63fc7-56e9-4f1e-d47b-4a58703f05ae"
      },
      "outputs": [
        {
          "output_type": "display_data",
          "data": {
            "text/plain": [
              "<Figure size 640x480 with 1 Axes>"
            ],
            "image/png": "[encoded data removed]"
          },
          "metadata": {}
        }
      ],
      "source": [
        "mse_train_v = []\n",
        "mse_test_v = []\n",
        "\n",
        "TRAINING_SIZE_MAX = 601\n",
        "TRAINING_SIZE_MIN = 20\n",
        "\n",
        "# compute the MSE over data with sizes from TRAINING_SIZE_MIN to TRAINING_SIZE_MAX with increasing step 20\n",
        "for train_size in range(TRAINING_SIZE_MIN, TRAINING_SIZE_MAX, 20):\n",
        "    # TODO:\n",
        "    #   1. use the first train_size data records from the X_train and y_train as the training data\n",
        "    #   2. train and compute the MSE on both training and test data using the train_and_test function\n",
        "    #   3. add the computed MSE to the lists mse_train_v and mse_test_v\n",
        "    # The code below is just for compilation.\n",
        "    # You need to replace it by your own code.\n",
        "    ###################################################\n",
        "    ##### YOUR CODE STARTS HERE #######################\n",
        "    ###################################################\n",
        "    #   1. use the first train_size data records from the X_train and y_train as the training data\n",
        "    X_train_subset = X_train[:train_size]\n",
        "    y_train_subset = y_train[:train_size]\n",
        "    #   2. train and compute the MSE on both training and test data using the train_and_test function\n",
        "    mse_train, mse_test = train_and_test(X_train_subset, y_train_subset, X_test, y_test)\n",
        "    #   3. add the computed MSE to the lists mse_train_v and mse_test_v\n",
        "    mse_train_v.append(mse_train)\n",
        "    mse_test_v.append(mse_test)\n",
        "\n",
        "    ###################################################\n",
        "    ##### YOUR CODE ENDS HERE #########################\n",
        "    ###################################################\n",
        "\n",
        "\n",
        "# The below code generates the learning curves plot\n",
        "plt.figure(2)\n",
        "plt.plot(np.arange(TRAINING_SIZE_MIN, TRAINING_SIZE_MAX, 20), mse_train_v, 'r--', label=\"Training Error\")\n",
        "plt.plot(np.arange(TRAINING_SIZE_MIN, TRAINING_SIZE_MAX, 20), mse_test_v, 'b-', label=\"Test Error\")\n",
        "plt.xlabel('Dataset Size')\n",
        "plt.ylabel('Mean Squared Error')\n",
        "plt.show()"
      ]
    },
    {
      "cell_type": "markdown",
      "metadata": {
        "id": "Q4pzfnkfHdLQ"
      },
      "source": [
        "### **Task 8**\n",
        "Explain whether you think the model is underfitting or not and how much data you need before getting the optimal test error."
      ]
    },
    {
      "cell_type": "markdown",
      "metadata": {
        "id": "9A9VqDTzOdfd"
      },
      "source": [
        "\n",
        "\n",
        "```\n",
        "Initially, our model is underfitting with a small dataset size. After approximately 150 data points, both training **and** test\n",
        "errors plateau around 0.56, indicating a good fit. Beyond this point, additional data does not significantly improve mean squared\n",
        "error (MSE). The learning curves show that while the model captures the data's general trend, its complexity may be limited,\n",
        "as both errors remain relatively high. Thus, around 200 samples appear optimal, where adding more data does not enhance model performance.\n",
        "```\n",
        "\n"
      ]
    },
    {
      "cell_type": "markdown",
      "metadata": {
        "id": "djpsaTu_kK3T"
      },
      "source": [
        "## Polynomial Basis Expansion and Regularisation\n",
        "\n",
        "In this part, we will try to improve the linear model by basis expansion and regularisation.\n",
        "\n",
        "The task is to\n",
        "1. apply the degree 2 basis expansion to the data,\n",
        "2. build the Ridge and Lasso models using scikit-learn, and\n",
        "3. perform hyperparameter optimization to find the optimal hyperparameter lambda.\n",
        "\n",
        "For the hyperparameter optimization, you should set the last 20% of the training data for the purpose of validation and\n",
        "try lambda values [10^-4, 10^-3, 10^-2, 10^-1, 1, 10, 100].\n",
        "\n",
        "\n",
        "We will use the scikit-learn package. You can import other scikit-learn packages if you think they are useful. Read the documentation available here: http://scikit-learn.org/stable/modules/classes.html"
      ]
    },
    {
      "cell_type": "code",
      "execution_count": null,
      "metadata": {
        "id": "9TM0nkNbkhfM"
      },
      "outputs": [],
      "source": [
        "# import the preprocessing libs for standarization and basis expansion\n",
        "from sklearn.preprocessing import StandardScaler, PolynomialFeatures\n",
        "\n",
        "# import mean_squared_error from sklearn.metrics\n",
        "from sklearn.metrics import mean_squared_error\n",
        "\n",
        "# we need these rows below for later\n",
        "from sklearn.model_selection import train_test_split\n",
        "X_train, X_test, y_train, y_test = train_test_split(X, y, test_size=0.2, random_state=42)\n",
        "\n",
        "# Ridge and Lasso linear model\n",
        "from sklearn.linear_model import Ridge, Lasso"
      ]
    },
    {
      "cell_type": "markdown",
      "metadata": {
        "id": "pCwBPuOXlRF7"
      },
      "source": [
        "### **Task 9**\n",
        "Let's implement the function for expanding the basis of the dataset.\n",
        "\n",
        "Hints: use `PolynomialFeatures`"
      ]
    },
    {
      "cell_type": "code",
      "execution_count": null,
      "metadata": {
        "id": "50azFolql1qA"
      },
      "outputs": [],
      "source": [
        "def expand_basis(X, degree):\n",
        "    # TODO: expand the basis of X for the input degree\n",
        "    # The code below is just for compilation.\n",
        "    # You need to replace it by your own code.\n",
        "    ###################################################\n",
        "    ##### YOUR CODE STARTS HERE #######################\n",
        "    ###################################################\n",
        "    # Hints: use the function PolynomialFeatures\n",
        "    # create a PolynomialFeatures object with the specified degree\n",
        "    poly = PolynomialFeatures(degree)\n",
        "\n",
        "    # transform the input matrix X by adding polynomial features\n",
        "    X_expanded = poly.fit_transform(X)\n",
        "\n",
        "    return X_expanded\n",
        "    ###################################################\n",
        "    ##### YOUR CODE ENDS HERE #########################\n",
        "    ###################################################"
      ]
    },
    {
      "cell_type": "markdown",
      "metadata": {
        "id": "6jwkPevimQri"
      },
      "source": [
        "### **Task 10**\n",
        "We need to expand and standardize the the data,\n",
        "and prepare the training, test and validation data on the expanded data.\n",
        "You should set the last 20% of the training data as the validation data.\n",
        "\n",
        "Hints: use `StandardScaler` and `std_scaler` to standardize the data"
      ]
    },
    {
      "cell_type": "code",
      "execution_count": null,
      "metadata": {
        "id": "dQCq4G9YmW7w"
      },
      "outputs": [],
      "source": [
        "def prepare_data(X, y, degree):\n",
        "    # TODO: the training, test and validation data using the expanded dataset.\n",
        "    # The code below is just for compilation.\n",
        "    # You need to replace it by your own code.\n",
        "    ###################################################\n",
        "    ##### YOUR CODE STARTS HERE #######################\n",
        "    ###################################################\n",
        "    # Hints: follow the steps\n",
        "    # 1. split the data (X, y) into training data (X_train, y_train) and test data (X_test, y_test)\n",
        "    # 2. standardize the training data and do the same transformation to the test data\n",
        "    # 3. expand the basis of the training data and test data, and standardize the training data and do the same transformation to the test data\n",
        "    # 4. split the expanded training data into training data (X_train_n, y_train_n) and validation data (X_train_v, y_train_v)\n",
        "    # 5. standardize the training data and do the same transformation to the validation data\n",
        "\n",
        "\n",
        "\n",
        "    # 1. Split the data (X, y) into training and test data (80% train, 20% test)\n",
        "    X_train, y_train, X_test, y_test = split_data(X, y, 0.8)\n",
        "\n",
        "\n",
        "    # 2. Standardize the training data and apply the same transformation to the test data\n",
        "    scaler = StandardScaler()\n",
        "    X_train = scaler.fit_transform(X_train)\n",
        "    X_test = scaler.transform(X_test)\n",
        "\n",
        "    # 3. Expand the basis of the training and test data using PolynomialFeatures (degree=2 in this case)\n",
        "    X_train = expand_basis(X_train, degree)\n",
        "    X_test = expand_basis(X_test, degree)\n",
        "\n",
        "    # split the expanded training data into training data (X_train_n, y_train_n) and validation data (X_train_v, y_train_v)\",\n",
        "\n",
        "    X_train = scaler.fit_transform(X_train)\n",
        "    X_test = scaler.transform(X_test)\n",
        "\n",
        "\n",
        "\n",
        "    # 4. Split the expanded training data into new training data (80%) and validation data (20%)\n",
        "    X_train_n, y_train_n, X_train_v, y_train_v = split_data(X_train, y_train, 0.8)\n",
        "\n",
        "    # 5. Standardize the new training data and apply the same transformation to the validation data\n",
        "    # (Note: Since we've already standardized the data before basis expansion, we don't need to scale again)\n",
        "    X_train_n = scaler.fit_transform(X_train_n)\n",
        "    X_train_v = scaler.transform(X_train_v)\n",
        "\n",
        "    return X_train, y_train, X_train_n, y_train_n, X_train_v, y_train_v, X_test, y_test\n",
        "    ###################################################\n",
        "    ##### YOUR CODE ENDS HERE #########################\n",
        "    ###################################################\n",
        "\n",
        "    # Example usage:\n",
        "X_train, y_train, X_train_n, y_train_n, X_train_v, y_train_v, X_test, y_test = prepare_data(X, y, 2) # here we expand the dataset with degree 2\n"
      ]
    },
    {
      "cell_type": "markdown",
      "metadata": {
        "id": "XL2nRWwmHdLT"
      },
      "source": [
        "**Why standardisation is required before basis expansion?**\n",
        "\n",
        "Assume we have a dataset with two features x1 and x2, where x1 has a small scale while x2 has a large scale. When we perform basis expansion, we  get a new feature x1x2. Since x2 has a larger scale than x1, it is likely x2 will contribute more to the value of the new feature x1x2, which means a bias is introduce here.\n",
        "The correct way is to standardise the features before the basis expansion. In this case x1 and x2 have the same scale, so they contribute same to the new feature x1x2, i.e. no bias is introduced.\n",
        "\n",
        "\n",
        "**Why standardise the training data in step 5?**\n",
        "\n",
        "Ridge and Lasso regularisation require the data to have mean of 0 and standard deviation of 1. However, after the basis expansion and splitting in step 4, the training data might not have the desired distribution, so we need to perform the standardisation on the training data.\n",
        "\n",
        "\n",
        "**Why not standardise both training and validation data together?**\n",
        "\n",
        "When we use validation data to chose the hyperparameters, we treat the validation data like the test data -- we should not assume we can access these data. So we should standardise the training data and perform the same operation to the validation data."
      ]
    },
    {
      "cell_type": "markdown",
      "metadata": {
        "id": "i3BxxtM3nghU"
      },
      "source": [
        "### **Task 11**\n",
        "We have prepared the training data and the validation data. We can now choose the hyperparameter lambda for Ridge and Lasso using the validation data.\n",
        "We use the Ridge and Lasso models from scikit-learn: https://scikit-learn.org/stable/modules/generated/sklearn.linear_model.Ridge.html\n",
        "\n",
        "We train Ridge or Lasso models with different lambda values and check their performance on the validation data.\n",
        "The lambda value that results the best performance is then the optimal lambda."
      ]
    },
    {
      "cell_type": "code",
      "execution_count": null,
      "metadata": {
        "colab": {
          "base_uri": "https://localhost:8080/",
          "height": 1000
        },
        "id": "SvXcAGW1oHq1",
        "outputId": "77d41e52-9e22-4d86-caca-a9a056cc9ffa"
      },
      "outputs": [
        {
          "output_type": "stream",
          "name": "stderr",
          "text": [
            "/usr/local/lib/python3.10/dist-packages/sklearn/linear_model/_coordinate_descent.py:697: ConvergenceWarning: Objective did not converge. You might want to increase the number of iterations, check the scale of the features or consider increasing regularisation. Duality gap: 2.680e+02, tolerance: 2.424e-01\n",
            "  model = cd_fast.enet_coordinate_descent(\n",
            "/usr/local/lib/python3.10/dist-packages/sklearn/linear_model/_coordinate_descent.py:697: ConvergenceWarning: Objective did not converge. You might want to increase the number of iterations, check the scale of the features or consider increasing regularisation. Duality gap: 9.041e-01, tolerance: 2.424e-01\n",
            "  model = cd_fast.enet_coordinate_descent(\n"
          ]
        },
        {
          "output_type": "stream",
          "name": "stdout",
          "text": [
            "Ridge lambda: 1\n",
            "Lasso lambda: 0.001\n"
          ]
        },
        {
          "output_type": "display_data",
          "data": {
            "text/plain": [
              "<Figure size 640x480 with 1 Axes>"
            ],
            "image/png": "[encoded data removed]"
          },
          "metadata": {}
        },
        {
          "output_type": "display_data",
          "data": {
            "text/plain": [
              "<Figure size 640x480 with 1 Axes>"
            ],
            "image/png": "[encoded data removed]"
          },
          "metadata": {}
        }
      ],
      "source": [
        "# The function takes the training and validation data as inputs, and\n",
        "# returns the lambda value that results the minimal mse\n",
        "# We use is_ridge to indicate which the model is considered.\n",
        "# is_ridge = True indicates Ridge while is_ridge = False indicates Lasso\n",
        "def choose_hyper_param(X_train_n, y_train_n, X_train_v, y_train_v, is_ridge: bool):\n",
        "    mse_arr = []\n",
        "    lam_arr = []\n",
        "    # Try lambda values from 10^-4 to 10^2.\n",
        "    # Record the mse and the lambda values in mse_arr and lam_arr\n",
        "    # The code below is just for compilation.\n",
        "    # You need to replace it by your own code.\n",
        "    ###################################################\n",
        "    ##### YOUR CODE STARTS HERE #######################\n",
        "    ###################################################\n",
        "    # Try lambda values from 10^-4 to 10^2\n",
        "    for pow_lam in range(-4, 3):\n",
        "      lam = 10 ** pow_lam\n",
        "\n",
        "      #Ridge or Lasso based on the `is_ridge` flag\n",
        "      if is_ridge:\n",
        "        model = Ridge(alpha=lam)\n",
        "      else:\n",
        "        model = Lasso(alpha=lam)\n",
        "\n",
        "      model.fit(X_train_n, y_train_n)         # train Ridge model,\n",
        "\n",
        "      y_predicted = model.predict(X_train_v)       # predict values for validation data\n",
        "\n",
        "\n",
        "      mse = np.mean((y_train_v - y_predicted) ** 2)     # mean squared error\n",
        "      mse_arr.append(mse)\n",
        "      lam_arr.append(lam)\n",
        "\n",
        "\n",
        "    ###################################################\n",
        "    ##### YOUR CODE ENDS HERE #########################\n",
        "    ###################################################\n",
        "\n",
        "\n",
        "    # get the index of the lambda value that has the minimal use\n",
        "    lambda_idx_min = np.argmin(np.array(mse_arr))\n",
        "\n",
        "    # plot of the lambda values and their mse\n",
        "    plt.figure()\n",
        "    plt.semilogx(lam_arr, mse_arr)\n",
        "    if is_ridge:\n",
        "      plt.title('Ridge Regression')\n",
        "    else:\n",
        "      plt.title('Lasso Regression')\n",
        "\n",
        "    # return the optimal lambda value\n",
        "    return lam_arr[lambda_idx_min]\n",
        "\n",
        "# call the function to choose the lambda for Ridge and Lasso\n",
        "lam_ridge = choose_hyper_param(X_train_n, y_train_n, X_train_v, y_train_v, True)\n",
        "lam_lasso = choose_hyper_param(X_train_n, y_train_n, X_train_v, y_train_v, False)\n",
        "\n",
        "\n",
        "print(\"Ridge lambda:\", lam_ridge)\n",
        "print(\"Lasso lambda:\", lam_lasso)"
      ]
    },
    {
      "cell_type": "markdown",
      "metadata": {
        "id": "FAuX0uU5k9qD"
      },
      "source": [
        "### **Task 12**:\n",
        "Once you’ve obtained the optimal lambdas for Ridge and Lasso, train these models using these lambdas on the full training data. Then report\n",
        "the training and test error."
      ]
    },
    {
      "cell_type": "code",
      "execution_count": null,
      "metadata": {
        "id": "VmwHESkg77zK",
        "colab": {
          "base_uri": "https://localhost:8080/"
        },
        "outputId": "ef1df2b7-2441-4ed4-a48a-cb533f9f5ea1"
      },
      "outputs": [
        {
          "output_type": "stream",
          "name": "stdout",
          "text": [
            "For Ridge Regression with using degree 2 polynomial expansion and lambda = 1.0000\n",
            "MSE (Training) = 0.4952\n",
            "MSE (Testing)  = 0.5126\n",
            "\n",
            "\n",
            "For Lasso with using degree 2 polynomial expansion and lambda = 0.0010\n",
            "MSE (Training) = 0.4966\n",
            "MSE (Testing)  = 0.5101\n"
          ]
        }
      ],
      "source": [
        "# TODO: train the Ridge and Lasso models using the optimal parameters, and\n",
        "#       report their MSE\n",
        "###################################################\n",
        "##### YOUR CODE STARTS HERE #######################\n",
        "###################################################\n",
        "# Hints: train these models on the full training data\n",
        "\n",
        "modelRidge = Ridge(alpha=lam_ridge)\n",
        "modelRidge.fit(X_train, y_train)      # train Ridge model\\n\n",
        "\n",
        "y_pred_train = modelRidge.predict(X_train)                         # predict values for train data\n",
        "mse_ridge_train = np.mean((y_train-y_pred_train)**2)        # mean squared error\n",
        "\n",
        "y_pred_test = modelRidge.predict(X_test)                           # predict values for test data\n",
        "mse_ridge_test = np.mean((y_test-y_pred_test)**2)           # mean squared error\n",
        "\n",
        "modelLasso = Lasso(alpha=lam_lasso)\n",
        "modelLasso.fit(X_train, y_train)           # train Lasso model\n",
        "\n",
        "y_pred_train = modelLasso.predict(X_train)       # predict values for train data\\n\",\n",
        "mse_lasso_train = np.mean((y_train-y_pred_train)**2)        # mean squared error\n",
        "\n",
        "y_pred_test = modelLasso.predict(X_test)                      # predict values for test data\\n\",\n",
        "mse_lasso_test = np.mean((y_test-y_pred_test)**2)           # mean squared error\n",
        "\n",
        "# mse_ridge_train = mean_squared_error(y_train_n, y_pred_train_ridge)\n",
        "# mse_ridge_test = mean_squared_error(y_test, y_pred_test_ridge)\n",
        "\n",
        "#mse_lasso_train = mean_squared_error(y_train_n, y_pred_train_lasso)\n",
        "# mse_lasso_test = mean_squared_error(y_test, y_pred_test_lasso)\n",
        "###################################################\n",
        "##### YOUR CODE ENDS HERE #########################\n",
        "###################################################\n",
        "\n",
        "# Report the result\n",
        "print('For Ridge Regression with using degree %d polynomial expansion and lambda = %.4f' % (2, lam_ridge))\n",
        "print('MSE (Training) = %.4f' % mse_ridge_train)\n",
        "print('MSE (Testing)  = %.4f' % mse_ridge_test)\n",
        "\n",
        "print('\\n\\nFor Lasso with using degree %d polynomial expansion and lambda = %.4f' % (2, lam_lasso))\n",
        "print('MSE (Training) = %.4f' % mse_lasso_train)\n",
        "print('MSE (Testing)  = %.4f' % mse_lasso_test)"
      ]
    },
    {
      "cell_type": "markdown",
      "metadata": {
        "id": "3UauliXhHdLU"
      },
      "source": [
        "## **Task 13**: Find the most important and least important feature"
      ]
    },
    {
      "cell_type": "markdown",
      "metadata": {
        "id": "OT5Pv_TXHdLU"
      },
      "source": [
        "The task is to identify the features that contribute the most and the least to the prediction, and to explore feature interaction. First, we are evaluating the performance of a linear regression model that uses only one feature. We train one model for every feature and report the MSE for each model. Then, we train a linear regression model on all features and analyse the contribution of each feature to the prediction.\n",
        "In addition, you will practice the k-fold cross-validation method.\n",
        "\n",
        "In this task, you may use the `cross_val_score` function and `LinearRegression` class from the scikit-learn library. We import both below.\n",
        "\n",
        "Note, if you use the `LinearRegression` class with its default parameters, then you do not need to add the bias term to the data. The `LinearRegression` class will add the bias automatically.\n",
        "\n",
        "Proceed as follows:\n",
        "\n",
        "1. Split the data into training and test data. Use the first 80% of the data for training and the remaining 20% for testing.\n",
        "\n",
        "2. Standardize the training data and test data. You can use the `StandardScaler` function from the scikit-learn library.\n",
        "\n",
        "3. Use the `cross_val_score` function to train one linear regression model for every feature. The function returns an array with the MSE for each fold. You can use the `mean` function from the NumPy library to compute the average MSE for each feature. (use the following parameters: `cv=5`, `scoring='neg_mean_squared_error'`)\n",
        "\n",
        "4. Plot the average MSE for each feature (Note, the `cross_val_score` function returns the negative MSE. Plot the positive values by multipling with $-1$). Use the `bar` function from the matplotlib library to plot the MSEs.\n",
        "\n",
        "5. **Report which single-feature model performs best and which performs worst.**\n",
        "\n",
        "6. Train a linear regression model on the training data and report the coefficients of the model. Use the `LinearRegression` class from the scikit-learn library and extract the coefficients using the `coef_` attribute.\n",
        "\n",
        "7. **Plot the coefficients using the `bar` function from the matplotlib library.**\n",
        "\n",
        "8. Compare the coefficients of the feature that achieved the smallest and largest MSE in step 3 with the coefficients of the model trained in step 6.\n",
        "\n",
        "9. **Answer the following questions:**\n",
        "    - What do the model coefficients tell us about the contribution of each feature to the prediction?\n",
        "    - Identify and report the features that contribute the most and the least to the model trained in step 6.\n",
        "    - How do the coefficients of the model trained in step 6 compare to the insigths gained from the single-feature models? Is the most important feature according to the single-feature models also the highest contributing feature according to the model trained on all features? If not, why do you think this is the case?\n",
        "    - If the volatile acidity of a wine increases, how does this impact the quality of the wine according to the model trained in step 6?\n"
      ]
    },
    {
      "cell_type": "code",
      "execution_count": null,
      "metadata": {
        "id": "-0eUlhJPHdLU"
      },
      "outputs": [],
      "source": [
        "from sklearn.model_selection import cross_val_score\n",
        "from sklearn.linear_model import LinearRegression"
      ]
    },
    {
      "cell_type": "code",
      "execution_count": null,
      "metadata": {
        "id": "bV6NWpsrHdLU",
        "outputId": "f277bb6b-17a9-4c13-b8e3-c3170ac7f179",
        "colab": {
          "base_uri": "https://localhost:8080/",
          "height": 455
        }
      },
      "outputs": [
        {
          "output_type": "display_data",
          "data": {
            "text/plain": [
              "<Figure size 640x480 with 1 Axes>"
            ],
            "image/png": "[encoded data removed]"
          },
          "metadata": {}
        }
      ],
      "source": [
        "X_train, y_train, X_test, y_test = split_data(X, y, 0.8)\n",
        "\n",
        "###################################################\n",
        "##### YOUR CODE STARTS HERE #######################\n",
        "###################################################\n",
        "scaler = StandardScaler()\n",
        "\n",
        "\n",
        "# Standardize the training and test data\n",
        "X_train_n = scaler.fit_transform(X_train)\n",
        "X_test_n = scaler.transform(X_test)\n",
        "\n",
        "# Cross_val_score function to train one linear regression model for every feature\n",
        "n_features = 11 # we know that there are only 11\n",
        "cross_val_err = np.zeros(n_features)\n",
        "coeff_arr = np.zeros(n_features)\n",
        "lr_model_arr = []\n",
        "\n",
        "\n",
        "# Train one model for each feature and compute the cross-validation error\n",
        "for i in range(n_features):\n",
        "    # Extract one feature and reshape for model training\n",
        "    X_train_feature = X_train_n[:, i].reshape(-1, 1)\n",
        "    # Train a linear regression model using all features\n",
        "    lr_model = LinearRegression()\n",
        "    lr_model.fit(X_train_feature, y_train)\n",
        "    coeff_arr[i] = lr_model.coef_[0]\n",
        "\n",
        "    # Calculate cross-validated MSE\n",
        "    scores = cross_val_score(LinearRegression(), X_train_feature, y_train, cv=5, scoring='neg_mean_squared_error')\n",
        "    cross_val_err[i] = -np.mean(scores)\n",
        "    lr_model_arr.append(lr_model)\n",
        "\n",
        "\n",
        "\n",
        "###################################################\n",
        "##### YOUR CODE ENDS HERE #########################\n",
        "###################################################\n",
        "\n",
        "# plot the cross validation error as bar chart\n",
        "plt.figure()\n",
        "plt.bar(np.arange(n_features), cross_val_err)\n",
        "plt.xlabel('Feature Index')\n",
        "plt.ylabel('Cross Validation Error')\n",
        "plt.ylim([0.5, 0.8])\n",
        "plt.show()\n"
      ]
    },
    {
      "cell_type": "markdown",
      "metadata": {
        "id": "Et7MkpnIHdLV"
      },
      "source": [
        "**Describe which single feature model performs best and which performs worst.**\n",
        "\n",
        "**YOUR ANSWER**\n"
      ]
    },
    {
      "cell_type": "code",
      "execution_count": null,
      "metadata": {
        "id": "eDRl3_0_HdLV",
        "colab": {
          "base_uri": "https://localhost:8080/",
          "height": 651
        },
        "outputId": "ef2c6376-fa61-42a8-9714-cd4b98d31152"
      },
      "outputs": [
        {
          "output_type": "stream",
          "name": "stdout",
          "text": [
            "Feature with the smallest MSE (Index: 10):\n",
            "Cross-validation MSE: 0.6329177221322599\n",
            "Coefficient: 0.3799452942319289\n",
            "\n",
            "Feature with the largest MSE (Index: 2):\n",
            "Cross-validation MSE: 0.777437179155688\n",
            "Coefficient: -0.009030024361685063\n",
            "\n",
            "All features: [ 0.05703657 -0.18338422 -0.00404067  0.40909728 -0.00817517  0.05929295\n",
            " -0.00356634 -0.43693678  0.09873812  0.06533251  0.24249545]\n"
          ]
        },
        {
          "output_type": "display_data",
          "data": {
            "text/plain": [
              "<Figure size 640x480 with 1 Axes>"
            ],
            "image/png": "[encoded data removed]"
          },
          "metadata": {}
        }
      ],
      "source": [
        "###################################################\n",
        "##### YOUR CODE STARTS HERE #######################\n",
        "###################################################\n",
        "\n",
        "# extract the coefficients of the linear model\n",
        "lr_model.fit(X_train_n, y_train)\n",
        "\n",
        "coefficients = lr_model.coef_\n",
        "\n",
        "min_mse_idx = np.argmin(cross_val_err)\n",
        "max_mse_idx = np.argmax(cross_val_err)\n",
        "\n",
        "min_mse_coefficient = coeff_arr[min_mse_idx]\n",
        "max_mse_coefficient = coeff_arr[max_mse_idx]\n",
        "\n",
        "\n",
        "# Print the results for comparison\n",
        "print(f\"Feature with the smallest MSE (Index: {min_mse_idx}):\")\n",
        "print(f\"Cross-validation MSE: {cross_val_err[min_mse_idx]}\")\n",
        "print(f\"Coefficient: {min_mse_coefficient}\")\n",
        "\n",
        "print(f\"\\nFeature with the largest MSE (Index: {max_mse_idx}):\")\n",
        "print(f\"Cross-validation MSE: {cross_val_err[max_mse_idx]}\")\n",
        "print(f\"Coefficient: {max_mse_coefficient}\")\n",
        "\n",
        "print(f\"\\nAll features: {coefficients}\")\n",
        "\n",
        "\n",
        "# plot the coefficients in the order of their feature index\n",
        "plt.figure()\n",
        "plt.bar(np.arange(n_features), coeff_arr)\n",
        "plt.xlabel('Feature Index')\n",
        "plt.ylabel('Coefficient Value')\n",
        "plt.title('Coefficients of Linear Regression Model')\n",
        "plt.show()\n",
        "\n",
        "###################################################\n",
        "##### YOUR CODE ENDS HERE #########################\n",
        "###################################################"
      ]
    },
    {
      "cell_type": "code",
      "source": [],
      "metadata": {
        "id": "VKYMp9VuyHX3"
      },
      "execution_count": null,
      "outputs": []
    },
    {
      "cell_type": "markdown",
      "metadata": {
        "id": "2fdq0inpHdLV"
      },
      "source": [
        "**YOUR ANSWERS TO THE QUESTIONS IN STEP 9**"
      ]
    },
    {
      "cell_type": "markdown",
      "metadata": {
        "id": "ghVjj1mzHdLV"
      },
      "source": [
        "\n",
        "\n",
        "> What do the model coefficients tell us about the contribution of each feature to the prediction?\n",
        "\n",
        "\n",
        "```\n",
        "Each coefficient in the linear regression model indicates how each feature contributes to the prediction. A positive coefficient means the\n",
        "feature increases the prediction value, while a negative coefficient means it decreases it.\n",
        "```\n",
        "\n",
        "> Identify and report the features that contribute the most and the least to the model trained in step 6.\n",
        "\n",
        "```\n",
        "The feature with the largest contribution in the model is density (8) (with coefficient 0.40909728), while total sulfur dioxide contributes\n",
        "the least (-0.00356634).\n",
        "```\n",
        "> How do the coefficients of the model trained in step 6 compare to the insigths gained from the single-feature models? Is the most important feature according to the single-feature models also the highest contributing feature according to the model trained on all features? If not, why do you think this is the case?\n",
        "\n",
        "\n",
        "```\n",
        "In single-feature models (step 3), each feature's effectiveness was evaluated separately based on mean squared error (MSE). However, when\n",
        "all features are combined (step 6), the most important single feature might not remain the highest contributing one, as features can interact.\n",
        "For example, alcohol had a minor role in single-feature analysis but became the third most influential feature in the combined model.\n",
        "```\n",
        "\n",
        "> If the volatile acidity of a wine increases, how does this impact the quality of the wine according to the model trained in step 6?\n",
        "\n",
        "```\n",
        "The coefficient of volatile acidity is negative (-0.18338422), so an increase in volatile acidity decreases wine quality. A 1-unit increase\n",
        "in volatile acidity lowers the predicted quality by 0.18338422.\n",
        "```"
      ]
    },
    {
      "cell_type": "code",
      "source": [
        "from sklearn.model_selection import train_test_split\n",
        "from sklearn.model_selection import GridSearchCV\n",
        "from sklearn.linear_model import Ridge, Lasso\n",
        "from sklearn.model_selection import KFold\n",
        "from sklearn.preprocessing import StandardScaler"
      ],
      "metadata": {
        "id": "O4xTFidXjTHO"
      },
      "execution_count": null,
      "outputs": []
    },
    {
      "cell_type": "code",
      "source": [
        "# Split the data into training and test sets\n",
        "#X_train, X_test, y_train, y_test = train_test_split(X, y, test_size=0.2, random_state=42)\n",
        "# Split the data into training and validation sets\n",
        "X_train_n, X_val_n, y_train_n, y_val_n = train_test_split(X_train, y_train, test_size=0.2, random_state=42)\n",
        "\n",
        "# Standardize the features\n",
        "X_train_n = scaler.fit_transform(X_train_n)\n",
        "X_val_n = scaler.transform(X_val_n)\n",
        "\n",
        "# Initialize variables to store the best degree and best MSE values\n",
        "best_degree = None\n",
        "best_mse_ridge = float('inf')\n",
        "best_mse_lasso = float('inf')\n",
        "\n",
        "# Iterate over the degree range from 1 to 5\n",
        "for degree in range(1, 5):\n",
        "    # create polynomial features for the current degree\n",
        "    poly = PolynomialFeatures(degree)\n",
        "    X_train_poly = poly.fit_transform(X_train_n)\n",
        "    X_val_poly = poly.transform(X_val_n)\n",
        "\n",
        "    # define the hyper-parameter space for Ridge and Lasso models\n",
        "    param_grid_ridge = {'alpha': np.logspace(-4, 5, 10)}\n",
        "    param_grid_lasso = {'alpha': np.logspace(-4, 5, 10)}\n",
        "\n",
        "    # initialize the Ridge and Lasso models\n",
        "    ridge_model = Ridge()\n",
        "    lasso_model = Lasso()\n",
        "\n",
        "    # perform k-fold cross-validation to find the optimal hyper-parameters\n",
        "    grid_search_ridge = GridSearchCV(ridge_model, param_grid_ridge, cv=5, scoring='neg_mean_squared_error')\n",
        "    grid_search_lasso = GridSearchCV(lasso_model, param_grid_lasso, cv=5, scoring='neg_mean_squared_error')\n",
        "\n",
        "    # fit the grid search models to the training data\n",
        "    grid_search_ridge.fit(X_train_poly, y_train_n)\n",
        "    grid_search_lasso.fit(X_train_poly, y_train_n)\n",
        "\n",
        "    lam_ridge_opt = grid_search_ridge.best_params_['alpha']\n",
        "    lam_lasso_opt = grid_search_lasso.best_params_['alpha']\n",
        "\n",
        "    # train the models with the optimal hyper-parameters and evaluate their performance on the validation data\n",
        "    best_ridge_model = grid_search_ridge.best_estimator_\n",
        "    best_lasso_model = grid_search_lasso.best_estimator_\n",
        "\n",
        "    y_pred_ridge = best_ridge_model.predict(X_val_poly)\n",
        "    y_pred_lasso = best_lasso_model.predict(X_val_poly)\n",
        "\n",
        "    mse_ridge = np.mean((y_val_n - y_pred_ridge) ** 2)\n",
        "    mse_lasso = np.mean((y_val_n - y_pred_lasso) ** 2)\n",
        "\n",
        "    # update the best degree and MSE if the current model performs better\n",
        "    if mse_ridge < best_mse_ridge:\n",
        "        best_mse_ridge = mse_ridge\n",
        "        best_degree_ridge = degree\n",
        "        best_lambda_ridge = grid_search_ridge.best_params_['alpha']  # Store the optimal lambda\n",
        "\n",
        "    if mse_lasso < best_mse_lasso:\n",
        "        best_mse_lasso = mse_lasso\n",
        "        best_degree_lasso = degree\n",
        "        best_lambda_lasso = grid_search_lasso.best_params_['alpha']  # Store the optimal lambda\n",
        "\n",
        "# display the results only for the best degree\n",
        "print(\"\\nBest Hyperparameters for Ridge Regression:\")\n",
        "print(\"Best Degree for Ridge model:\", best_degree_ridge)\n",
        "print(f\"Optimal Lambda: {best_lambda_ridge}\")  # display the optimal lambda for Ridge\n",
        "print(f\"Mean Squared Error: {best_mse_ridge}\")  # display the MSE for Ridge\n",
        "print(\"\\n\")\n",
        "\n",
        "print(\"Best Hyperparameters for Lasso Regression:\")\n",
        "print(\"Best Degree for Lasso model:\", best_degree_lasso)\n",
        "print(f\"Optimal Lambda: {best_lambda_lasso}\")  # display the optimal lambda for Lasso\n",
        "print(f\"Mean Squared Error: {best_mse_lasso}\")  # display the MSE for Lasso\n",
        "print(\"\\n\")\n",
        "\n",
        "# summary of MSE with optimal hyperparameters\n",
        "print(\"MSE with the Optimal Hyperparameters Applied:\")\n",
        "print(f\"Ridge Mean Squared Error: {best_mse_ridge}\")  # summary of Ridge MSE\n",
        "print(f\"Lasso Mean Squared Error: {best_mse_lasso}\")  # summary of Lasso MSE"
      ],
      "metadata": {
        "colab": {
          "base_uri": "https://localhost:8080/"
        },
        "id": "oIvr7vX4CH8E",
        "outputId": "032bdf35-dd07-4ca6-dfbe-d024cea338b0"
      },
      "execution_count": null,
      "outputs": [
        {
          "output_type": "stream",
          "name": "stderr",
          "text": [
            "/usr/local/lib/python3.10/dist-packages/sklearn/linear_model/_coordinate_descent.py:697: ConvergenceWarning: Objective did not converge. You might want to increase the number of iterations, check the scale of the features or consider increasing regularisation. Duality gap: 2.448e+02, tolerance: 2.046e-01\n",
            "  model = cd_fast.enet_coordinate_descent(\n",
            "/usr/local/lib/python3.10/dist-packages/sklearn/linear_model/_coordinate_descent.py:697: ConvergenceWarning: Objective did not converge. You might want to increase the number of iterations, check the scale of the features or consider increasing regularisation. Duality gap: 4.369e+02, tolerance: 1.944e-01\n",
            "  model = cd_fast.enet_coordinate_descent(\n",
            "/usr/local/lib/python3.10/dist-packages/sklearn/linear_model/_coordinate_descent.py:697: ConvergenceWarning: Objective did not converge. You might want to increase the number of iterations, check the scale of the features or consider increasing regularisation. Duality gap: 2.885e+02, tolerance: 2.005e-01\n",
            "  model = cd_fast.enet_coordinate_descent(\n",
            "/usr/local/lib/python3.10/dist-packages/sklearn/linear_model/_coordinate_descent.py:697: ConvergenceWarning: Objective did not converge. You might want to increase the number of iterations, check the scale of the features or consider increasing regularisation. Duality gap: 8.708e+01, tolerance: 1.954e-01\n",
            "  model = cd_fast.enet_coordinate_descent(\n",
            "/usr/local/lib/python3.10/dist-packages/sklearn/linear_model/_coordinate_descent.py:697: ConvergenceWarning: Objective did not converge. You might want to increase the number of iterations, check the scale of the features or consider increasing regularisation. Duality gap: 1.044e+02, tolerance: 2.006e-01\n",
            "  model = cd_fast.enet_coordinate_descent(\n",
            "/usr/local/lib/python3.10/dist-packages/sklearn/linear_model/_coordinate_descent.py:697: ConvergenceWarning: Objective did not converge. You might want to increase the number of iterations, check the scale of the features or consider increasing regularisation. Duality gap: 4.924e-01, tolerance: 2.005e-01\n",
            "  model = cd_fast.enet_coordinate_descent(\n",
            "/usr/local/lib/python3.10/dist-packages/sklearn/linear_model/_coordinate_descent.py:697: ConvergenceWarning: Objective did not converge. You might want to increase the number of iterations, check the scale of the features or consider increasing regularisation. Duality gap: 3.288e+02, tolerance: 2.489e-01\n",
            "  model = cd_fast.enet_coordinate_descent(\n",
            "/usr/local/lib/python3.10/dist-packages/sklearn/linear_model/_coordinate_descent.py:697: ConvergenceWarning: Objective did not converge. You might want to increase the number of iterations, check the scale of the features or consider increasing regularisation. Duality gap: 5.141e+02, tolerance: 2.046e-01\n",
            "  model = cd_fast.enet_coordinate_descent(\n",
            "/usr/local/lib/python3.10/dist-packages/sklearn/linear_model/_coordinate_descent.py:697: ConvergenceWarning: Objective did not converge. You might want to increase the number of iterations, check the scale of the features or consider increasing regularisation. Duality gap: 4.871e+02, tolerance: 1.944e-01\n",
            "  model = cd_fast.enet_coordinate_descent(\n",
            "/usr/local/lib/python3.10/dist-packages/sklearn/linear_model/_coordinate_descent.py:697: ConvergenceWarning: Objective did not converge. You might want to increase the number of iterations, check the scale of the features or consider increasing regularisation. Duality gap: 5.105e+02, tolerance: 2.005e-01\n",
            "  model = cd_fast.enet_coordinate_descent(\n",
            "/usr/local/lib/python3.10/dist-packages/sklearn/linear_model/_coordinate_descent.py:697: ConvergenceWarning: Objective did not converge. You might want to increase the number of iterations, check the scale of the features or consider increasing regularisation. Duality gap: 4.921e+02, tolerance: 1.954e-01\n",
            "  model = cd_fast.enet_coordinate_descent(\n",
            "/usr/local/lib/python3.10/dist-packages/sklearn/linear_model/_coordinate_descent.py:697: ConvergenceWarning: Objective did not converge. You might want to increase the number of iterations, check the scale of the features or consider increasing regularisation. Duality gap: 5.016e+02, tolerance: 2.006e-01\n",
            "  model = cd_fast.enet_coordinate_descent(\n",
            "/usr/local/lib/python3.10/dist-packages/sklearn/linear_model/_coordinate_descent.py:697: ConvergenceWarning: Objective did not converge. You might want to increase the number of iterations, check the scale of the features or consider increasing regularisation. Duality gap: 4.657e+02, tolerance: 2.046e-01\n",
            "  model = cd_fast.enet_coordinate_descent(\n",
            "/usr/local/lib/python3.10/dist-packages/sklearn/linear_model/_coordinate_descent.py:697: ConvergenceWarning: Objective did not converge. You might want to increase the number of iterations, check the scale of the features or consider increasing regularisation. Duality gap: 4.272e+02, tolerance: 1.944e-01\n",
            "  model = cd_fast.enet_coordinate_descent(\n",
            "/usr/local/lib/python3.10/dist-packages/sklearn/linear_model/_coordinate_descent.py:697: ConvergenceWarning: Objective did not converge. You might want to increase the number of iterations, check the scale of the features or consider increasing regularisation. Duality gap: 4.533e+02, tolerance: 2.005e-01\n",
            "  model = cd_fast.enet_coordinate_descent(\n",
            "/usr/local/lib/python3.10/dist-packages/sklearn/linear_model/_coordinate_descent.py:697: ConvergenceWarning: Objective did not converge. You might want to increase the number of iterations, check the scale of the features or consider increasing regularisation. Duality gap: 4.388e+02, tolerance: 1.954e-01\n",
            "  model = cd_fast.enet_coordinate_descent(\n",
            "/usr/local/lib/python3.10/dist-packages/sklearn/linear_model/_coordinate_descent.py:697: ConvergenceWarning: Objective did not converge. You might want to increase the number of iterations, check the scale of the features or consider increasing regularisation. Duality gap: 4.659e+02, tolerance: 2.006e-01\n",
            "  model = cd_fast.enet_coordinate_descent(\n",
            "/usr/local/lib/python3.10/dist-packages/sklearn/linear_model/_coordinate_descent.py:697: ConvergenceWarning: Objective did not converge. You might want to increase the number of iterations, check the scale of the features or consider increasing regularisation. Duality gap: 5.577e+00, tolerance: 2.046e-01\n",
            "  model = cd_fast.enet_coordinate_descent(\n",
            "/usr/local/lib/python3.10/dist-packages/sklearn/linear_model/_coordinate_descent.py:697: ConvergenceWarning: Objective did not converge. You might want to increase the number of iterations, check the scale of the features or consider increasing regularisation. Duality gap: 1.060e+01, tolerance: 1.944e-01\n",
            "  model = cd_fast.enet_coordinate_descent(\n",
            "/usr/local/lib/python3.10/dist-packages/sklearn/linear_model/_coordinate_descent.py:697: ConvergenceWarning: Objective did not converge. You might want to increase the number of iterations, check the scale of the features or consider increasing regularisation. Duality gap: 6.118e+01, tolerance: 2.005e-01\n",
            "  model = cd_fast.enet_coordinate_descent(\n",
            "/usr/local/lib/python3.10/dist-packages/sklearn/linear_model/_coordinate_descent.py:697: ConvergenceWarning: Objective did not converge. You might want to increase the number of iterations, check the scale of the features or consider increasing regularisation. Duality gap: 3.453e+00, tolerance: 1.954e-01\n",
            "  model = cd_fast.enet_coordinate_descent(\n",
            "/usr/local/lib/python3.10/dist-packages/sklearn/linear_model/_coordinate_descent.py:697: ConvergenceWarning: Objective did not converge. You might want to increase the number of iterations, check the scale of the features or consider increasing regularisation. Duality gap: 1.490e+00, tolerance: 2.006e-01\n",
            "  model = cd_fast.enet_coordinate_descent(\n",
            "/usr/local/lib/python3.10/dist-packages/sklearn/linear_model/_coordinate_descent.py:697: ConvergenceWarning: Objective did not converge. You might want to increase the number of iterations, check the scale of the features or consider increasing regularisation. Duality gap: 3.256e+02, tolerance: 2.046e-01\n",
            "  model = cd_fast.enet_coordinate_descent(\n",
            "/usr/local/lib/python3.10/dist-packages/sklearn/linear_model/_coordinate_descent.py:697: ConvergenceWarning: Objective did not converge. You might want to increase the number of iterations, check the scale of the features or consider increasing regularisation. Duality gap: 3.033e+02, tolerance: 1.944e-01\n",
            "  model = cd_fast.enet_coordinate_descent(\n",
            "/usr/local/lib/python3.10/dist-packages/sklearn/linear_model/_coordinate_descent.py:697: ConvergenceWarning: Objective did not converge. You might want to increase the number of iterations, check the scale of the features or consider increasing regularisation. Duality gap: 3.219e+02, tolerance: 2.005e-01\n",
            "  model = cd_fast.enet_coordinate_descent(\n",
            "/usr/local/lib/python3.10/dist-packages/sklearn/linear_model/_coordinate_descent.py:697: ConvergenceWarning: Objective did not converge. You might want to increase the number of iterations, check the scale of the features or consider increasing regularisation. Duality gap: 3.014e+02, tolerance: 1.954e-01\n",
            "  model = cd_fast.enet_coordinate_descent(\n",
            "/usr/local/lib/python3.10/dist-packages/sklearn/linear_model/_coordinate_descent.py:697: ConvergenceWarning: Objective did not converge. You might want to increase the number of iterations, check the scale of the features or consider increasing regularisation. Duality gap: 3.134e+02, tolerance: 2.006e-01\n",
            "  model = cd_fast.enet_coordinate_descent(\n",
            "/usr/local/lib/python3.10/dist-packages/sklearn/linear_model/_coordinate_descent.py:697: ConvergenceWarning: Objective did not converge. You might want to increase the number of iterations, check the scale of the features or consider increasing regularisation. Duality gap: 4.153e+02, tolerance: 2.046e-01\n",
            "  model = cd_fast.enet_coordinate_descent(\n",
            "/usr/local/lib/python3.10/dist-packages/sklearn/linear_model/_coordinate_descent.py:697: ConvergenceWarning: Objective did not converge. You might want to increase the number of iterations, check the scale of the features or consider increasing regularisation. Duality gap: 3.970e+02, tolerance: 1.944e-01\n",
            "  model = cd_fast.enet_coordinate_descent(\n",
            "/usr/local/lib/python3.10/dist-packages/sklearn/linear_model/_coordinate_descent.py:697: ConvergenceWarning: Objective did not converge. You might want to increase the number of iterations, check the scale of the features or consider increasing regularisation. Duality gap: 4.111e+02, tolerance: 2.005e-01\n",
            "  model = cd_fast.enet_coordinate_descent(\n",
            "/usr/local/lib/python3.10/dist-packages/sklearn/linear_model/_coordinate_descent.py:697: ConvergenceWarning: Objective did not converge. You might want to increase the number of iterations, check the scale of the features or consider increasing regularisation. Duality gap: 4.050e+02, tolerance: 1.954e-01\n",
            "  model = cd_fast.enet_coordinate_descent(\n",
            "/usr/local/lib/python3.10/dist-packages/sklearn/linear_model/_coordinate_descent.py:697: ConvergenceWarning: Objective did not converge. You might want to increase the number of iterations, check the scale of the features or consider increasing regularisation. Duality gap: 4.052e+02, tolerance: 2.006e-01\n",
            "  model = cd_fast.enet_coordinate_descent(\n",
            "/usr/local/lib/python3.10/dist-packages/sklearn/linear_model/_coordinate_descent.py:697: ConvergenceWarning: Objective did not converge. You might want to increase the number of iterations, check the scale of the features or consider increasing regularisation. Duality gap: 4.852e+02, tolerance: 2.046e-01\n",
            "  model = cd_fast.enet_coordinate_descent(\n",
            "/usr/local/lib/python3.10/dist-packages/sklearn/linear_model/_coordinate_descent.py:697: ConvergenceWarning: Objective did not converge. You might want to increase the number of iterations, check the scale of the features or consider increasing regularisation. Duality gap: 4.941e+02, tolerance: 1.944e-01\n",
            "  model = cd_fast.enet_coordinate_descent(\n",
            "/usr/local/lib/python3.10/dist-packages/sklearn/linear_model/_coordinate_descent.py:697: ConvergenceWarning: Objective did not converge. You might want to increase the number of iterations, check the scale of the features or consider increasing regularisation. Duality gap: 5.243e+02, tolerance: 2.005e-01\n",
            "  model = cd_fast.enet_coordinate_descent(\n",
            "/usr/local/lib/python3.10/dist-packages/sklearn/linear_model/_coordinate_descent.py:697: ConvergenceWarning: Objective did not converge. You might want to increase the number of iterations, check the scale of the features or consider increasing regularisation. Duality gap: 4.059e+02, tolerance: 1.954e-01\n",
            "  model = cd_fast.enet_coordinate_descent(\n",
            "/usr/local/lib/python3.10/dist-packages/sklearn/linear_model/_coordinate_descent.py:697: ConvergenceWarning: Objective did not converge. You might want to increase the number of iterations, check the scale of the features or consider increasing regularisation. Duality gap: 4.567e+02, tolerance: 2.006e-01\n",
            "  model = cd_fast.enet_coordinate_descent(\n",
            "/usr/local/lib/python3.10/dist-packages/sklearn/linear_model/_coordinate_descent.py:697: ConvergenceWarning: Objective did not converge. You might want to increase the number of iterations, check the scale of the features or consider increasing regularisation. Duality gap: 4.993e+02, tolerance: 2.046e-01\n",
            "  model = cd_fast.enet_coordinate_descent(\n",
            "/usr/local/lib/python3.10/dist-packages/sklearn/linear_model/_coordinate_descent.py:697: ConvergenceWarning: Objective did not converge. You might want to increase the number of iterations, check the scale of the features or consider increasing regularisation. Duality gap: 2.876e+02, tolerance: 1.944e-01\n",
            "  model = cd_fast.enet_coordinate_descent(\n",
            "/usr/local/lib/python3.10/dist-packages/sklearn/linear_model/_coordinate_descent.py:697: ConvergenceWarning: Objective did not converge. You might want to increase the number of iterations, check the scale of the features or consider increasing regularisation. Duality gap: 4.292e+02, tolerance: 2.005e-01\n",
            "  model = cd_fast.enet_coordinate_descent(\n",
            "/usr/local/lib/python3.10/dist-packages/sklearn/linear_model/_coordinate_descent.py:697: ConvergenceWarning: Objective did not converge. You might want to increase the number of iterations, check the scale of the features or consider increasing regularisation. Duality gap: 3.337e+02, tolerance: 1.954e-01\n",
            "  model = cd_fast.enet_coordinate_descent(\n",
            "/usr/local/lib/python3.10/dist-packages/sklearn/linear_model/_coordinate_descent.py:697: ConvergenceWarning: Objective did not converge. You might want to increase the number of iterations, check the scale of the features or consider increasing regularisation. Duality gap: 4.254e+02, tolerance: 2.006e-01\n",
            "  model = cd_fast.enet_coordinate_descent(\n"
          ]
        },
        {
          "output_type": "stream",
          "name": "stdout",
          "text": [
            "\n",
            "Best Hyperparameters for Ridge Regression:\n",
            "Best Degree for Ridge model: 2\n",
            "Optimal Lambda: 10.0\n",
            "Mean Squared Error: 0.49229774913865476\n",
            "\n",
            "\n",
            "Best Hyperparameters for Lasso Regression:\n",
            "Best Degree for Lasso model: 2\n",
            "Optimal Lambda: 0.0001\n",
            "Mean Squared Error: 0.49480725128944275\n",
            "\n",
            "\n",
            "MSE with the Optimal Hyperparameters Applied:\n",
            "Ridge Mean Squared Error: 0.49229774913865476\n",
            "Lasso Mean Squared Error: 0.49480725128944275\n"
          ]
        }
      ]
    },
    {
      "cell_type": "markdown",
      "source": [
        "\n",
        "\n",
        "```\n",
        "Both Ridge and Lasso perform best with a degree 2 polynomial expansion. Ridge has a slightly lower MSE (0.4923) than Lasso (0.4948),\n",
        "indicating better fit. Ridge's optimal lambda is `10.0`, showing stronger regularization, while Lasso's lambda is `0.0001`, indicating\n",
        "minimal penalization. Hence, Ridge is the preferred model for this dataset due to its slightly superior accuracy.\n",
        "```\n",
        "\n",
        "\n",
        "\n",
        "\n",
        "\n",
        "\n",
        "\n",
        "\n"
      ],
      "metadata": {
        "id": "IissUvX0kLp5"
      }
    }
  ],
  "metadata": {
    "colab": {
      "provenance": []
    },
    "kernelspec": {
      "display_name": "Python 3",
      "language": "python",
      "name": "python3"
    },
    "language_info": {
      "codemirror_mode": {
        "name": "ipython",
        "version": 3
      },
      "file_extension": ".py",
      "mimetype": "text/x-python",
      "name": "python",
      "nbconvert_exporter": "python",
      "pygments_lexer": "ipython3",
      "version": "3.8.8"
    }
  },
  "nbformat": 4,
  "nbformat_minor": 0
}